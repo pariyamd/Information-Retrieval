{
 "cells": [
  {
   "cell_type": "code",
   "execution_count": 3,
   "metadata": {},
   "outputs": [],
   "source": [
    "import pandas as pd\n",
    "import numpy as np\n",
    "import heapq\n",
    "import math\n",
    "import os\n",
    "import pickle "
   ]
  },
  {
   "cell_type": "code",
   "execution_count": 4,
   "metadata": {},
   "outputs": [],
   "source": [
    "# !pip install hazm\n",
    "from hazm import *\n",
    "from collections import Counter"
   ]
  },
  {
   "cell_type": "code",
   "execution_count": 5,
   "metadata": {},
   "outputs": [],
   "source": [
    "data_IR=pd.read_csv(\"IR_CSV.csv\")\n",
    "punctuations=pd.read_csv(\"punctuations.csv\")\n",
    "chars_to_remove=''.join(punctuations[\"punctuations\"].values.tolist()).replace(\" \",\"\")"
   ]
  },
  {
   "cell_type": "code",
   "execution_count": 6,
   "metadata": {},
   "outputs": [],
   "source": [
    "data_IR = data_IR[data_IR['content'].notnull()]"
   ]
  },
  {
   "cell_type": "markdown",
   "metadata": {},
   "source": [
    "# Phase 2"
   ]
  },
  {
   "cell_type": "code",
   "execution_count": 28,
   "metadata": {},
   "outputs": [],
   "source": [
    "normalizer = Normalizer()\n",
    "lemmatizer = Lemmatizer()\n",
    "\n",
    "\n",
    "def tokenize(doc):\n",
    "    nd=str(normalizer.normalize(doc))\n",
    "    nd=nd.translate(str.maketrans('','',chars_to_remove))\n",
    "    words=list(map(lambda t:lemmatizer.lemmatize(t),word_tokenize(nd)))    \n",
    "    return dict(Counter(words))\n",
    "\n",
    "def make_dictionary(data):\n",
    "    dictionary={}\n",
    "    lengths={}\n",
    "    for i,doc in zip(data[\"id\"],data[\"content\"]):\n",
    "        doc=str(doc)\n",
    "        doc=doc.replace(\"انتهای پیام\",\"\")\n",
    "        counts=tokenize(doc)\n",
    "        l=0\n",
    "        for k,v in counts.items():\n",
    "            l+=(1+math.log(v,10))**2\n",
    "            if k in dictionary.keys():\n",
    "                dictionary[k][0]+=1\n",
    "                dictionary[k][1][i]=1+math.log(v,10)\n",
    "            else:\n",
    "                dictionary[k]=[1,{i:1+math.log(v,10)}]\n",
    "        lengths[i]=np.sqrt(l)\n",
    "    #remove stop words\n",
    "    for i in stopwords_list():\n",
    "        if i in dictionary.keys():\n",
    "            dictionary.pop(i)\n",
    "    return dictionary,lengths\n",
    "\n",
    "\n",
    "def make_champion(dictionary,r):\n",
    "    champs={}\n",
    "    for k,v in dictionary.items():\n",
    "        best_r=dict(Counter(v[1]).most_common(r))\n",
    "        champs[k]=[v[0],best_r]\n",
    "    return champs\n",
    "\n",
    "def normalize_query(q):# do the same for query\n",
    "    q_doc=tokenize(q)\n",
    "    for k,v in q_doc.items():\n",
    "        q_doc[k]=1+math.log(v)\n",
    "        \n",
    "    #remove stop words\n",
    "    for i in stopwords_list():\n",
    "        if i in q_doc.keys():\n",
    "            q_doc.pop(i)\n",
    "    return q_doc\n",
    "\n",
    "N=len(data_IR[\"content\"])\n",
    "def compute_scores(q,dictionary): #cosine similarity(slide 38/ lecture 6)\n",
    "    sims={} \n",
    "    for k,v in q.items():\n",
    "        idf=math.log(N/dictionary[k][0])\n",
    "        for docid,w in dictionary[k][1].items():\n",
    "            if docid in sims.keys():\n",
    "                sims[docid]+=w*v*idf\n",
    "            else:\n",
    "                sims[docid]=w*v*idf\n",
    "    for docid in sims.keys():\n",
    "        sims[docid]=sims[docid]/lengths[docid]\n",
    "    return sims\n",
    "\n",
    "def best_k(scores, k):# make heap table and pop k\n",
    "    best_scores =[]\n",
    "    heap = []\n",
    "    for docid,score in scores.items():\n",
    "        heapq.heappush(heap,(-score, docid))\n",
    "    for i in range(k):\n",
    "        best_scores.append(heapq.heappop(heap))\n",
    "    return best_scores\n",
    "\n",
    "def query(q,k,dictionary,champion,champs=0): \n",
    "    q=normalize_query(q)\n",
    "    best_r={}\n",
    "    if champs:\n",
    "        best_r=compute_scores(q,champion)\n",
    "        if len(best_r)<k:\n",
    "            best_r.update(compute_scores(q,dictionary))\n",
    "    else:\n",
    "        best_r=compute_scores(q,dictionary)\n",
    "    return best_k(best_r,k)\n",
    "    "
   ]
  },
  {
   "cell_type": "code",
   "execution_count": 29,
   "metadata": {},
   "outputs": [],
   "source": [
    "def retrieve_docs(topk,data):\n",
    "    results=[]\n",
    "    for t in topk:\n",
    "        results.append(data[data[\"id\"]==t[1]][\"url\"])\n",
    "    return results"
   ]
  },
  {
   "cell_type": "code",
   "execution_count": 30,
   "metadata": {},
   "outputs": [
    {
     "name": "stdout",
     "output_type": "stream",
     "text": [
      "Wall time: 24.9 s\n"
     ]
    }
   ],
   "source": [
    "%%time\n",
    "my_dict,lengths=make_dictionary(data_IR)"
   ]
  },
  {
   "cell_type": "code",
   "execution_count": 8,
   "metadata": {},
   "outputs": [
    {
     "name": "stdout",
     "output_type": "stream",
     "text": [
      "Wall time: 728 ms\n"
     ]
    }
   ],
   "source": [
    "%%time\n",
    "my_champs=make_champion(my_dict,7)"
   ]
  },
  {
   "cell_type": "code",
   "execution_count": 156,
   "metadata": {},
   "outputs": [
    {
     "name": "stdout",
     "output_type": "stream",
     "text": [
      "Wall time: 9.95 ms\n"
     ]
    },
    {
     "data": {
      "text/plain": [
       "[4228    https://www.isna.ir/news/99120100312/رویداد-خا...\n",
       " Name: url, dtype: object,\n",
       " 2379    https://www.isna.ir/news/99102116017/ارائه-گزا...\n",
       " Name: url, dtype: object,\n",
       " 4394    https://www.isna.ir/news/98020703648/ارزش-۱۰-ک...\n",
       " Name: url, dtype: object,\n",
       " 2617    https://www.isna.ir/news/98022814809/تشکیل-۱۰-...\n",
       " Name: url, dtype: object,\n",
       " 6060    https://www.isna.ir/news/99070906684/رتبه-اول-...\n",
       " Name: url, dtype: object]"
      ]
     },
     "execution_count": 156,
     "metadata": {},
     "output_type": "execute_result"
    }
   ],
   "source": [
    "%%time\n",
    "topk=query(\"بنیاد نخبگان و جهاد دانشگاهی\",5,my_dict,my_champs,0)\n",
    "retrieve_docs(topk,data_IR)"
   ]
  },
  {
   "cell_type": "code",
   "execution_count": 159,
   "metadata": {},
   "outputs": [
    {
     "name": "stdout",
     "output_type": "stream",
     "text": [
      "Wall time: 21.2 ms\n"
     ]
    },
    {
     "data": {
      "text/plain": [
       "[3132    https://www.isna.ir/news/98110705292/بررسی-مشک...\n",
       " Name: url, dtype: object,\n",
       " 5287    https://www.isna.ir/news/98110705292/بررسی-مشک...\n",
       " Name: url, dtype: object,\n",
       " 2235    https://www.isna.ir/news/99081208080/بررسی-افز...\n",
       " Name: url, dtype: object,\n",
       " 3911    https://www.isna.ir/news/99081208080/بررسی-افز...\n",
       " Name: url, dtype: object,\n",
       " 3955    https://www.isna.ir/news/99090100757/قیمت-شیر-...\n",
       " Name: url, dtype: object]"
      ]
     },
     "execution_count": 159,
     "metadata": {},
     "output_type": "execute_result"
    }
   ],
   "source": [
    "%%time\n",
    "topk=query(\"سازمان حمایت از مصرف کننده\",5,my_dict,my_champs,0)\n",
    "retrieve_docs(topk,data_IR)"
   ]
  },
  {
   "cell_type": "code",
   "execution_count": 160,
   "metadata": {},
   "outputs": [
    {
     "data": {
      "text/plain": [
       "[(-1.540911463934925, 3133),\n",
       " (-1.540911463934925, 5288),\n",
       " (-1.4152608628721397, 2236),\n",
       " (-1.4152608628721397, 3912),\n",
       " (-1.3485069978003228, 3956)]"
      ]
     },
     "execution_count": 160,
     "metadata": {},
     "output_type": "execute_result"
    }
   ],
   "source": []
  },
  {
   "cell_type": "code",
   "execution_count": 158,
   "metadata": {},
   "outputs": [
    {
     "name": "stdout",
     "output_type": "stream",
     "text": [
      "Wall time: 16.2 ms\n"
     ]
    },
    {
     "data": {
      "text/plain": [
       "[6717    https://www.isna.ir/news/98042915171/زنان-شاغل...\n",
       " Name: url, dtype: object,\n",
       " 6721    https://www.isna.ir/news/98042915171/زنان-شاغل...\n",
       " Name: url, dtype: object,\n",
       " 2732    https://www.isna.ir/news/98042614092/تحرک-نیرو...\n",
       " Name: url, dtype: object,\n",
       " 6206    https://www.isna.ir/news/99082819819/راه-های-پ...\n",
       " Name: url, dtype: object,\n",
       " 42    https://www.isna.ir/news/99011809817/پیام-یونس...\n",
       " Name: url, dtype: object]"
      ]
     },
     "execution_count": 158,
     "metadata": {},
     "output_type": "execute_result"
    }
   ],
   "source": [
    "%%time\n",
    "topk=query(\"تحرک ذهنی زنان خانه‌دار\",5,my_dict,my_champs,0)\n",
    "retrieve_docs(topk,data_IR)"
   ]
  },
  {
   "cell_type": "code",
   "execution_count": 138,
   "metadata": {},
   "outputs": [
    {
     "name": "stdout",
     "output_type": "stream",
     "text": [
      "Wall time: 3.85 ms\n"
     ]
    }
   ],
   "source": [
    "%%time\n",
    "topk=query(\"بیماران کرونایی مبتلا و مرگ\",5,my_dict,my_champs,1)"
   ]
  },
  {
   "cell_type": "code",
   "execution_count": 10,
   "metadata": {},
   "outputs": [
    {
     "data": {
      "text/plain": [
       "[(-1.0817750115332747, 5470),\n",
       " (-1.0348375352019714, 6337),\n",
       " (-1.0348375352019714, 6341),\n",
       " (-0.9309592553610874, 5629),\n",
       " (-0.9309592553610874, 5633)]"
      ]
     },
     "execution_count": 10,
     "metadata": {},
     "output_type": "execute_result"
    }
   ],
   "source": [
    "topk"
   ]
  },
  {
   "cell_type": "code",
   "execution_count": 12,
   "metadata": {},
   "outputs": [
    {
     "data": {
      "text/plain": [
       "[5892    https://www.isna.ir/news/99052518443/آمار-فوتی...\n",
       " Name: url, dtype: object,\n",
       " 5961    https://www.isna.ir/news/99061511083/دانش-آموز...\n",
       " Name: url, dtype: object,\n",
       " 6277    https://www.isna.ir/news/99092620240/داروی-بیم...\n",
       " Name: url, dtype: object,\n",
       " 5499    https://www.isna.ir/news/99012514275/تحلیل-وضع...\n",
       " Name: url, dtype: object,\n",
       " 6178    https://www.isna.ir/news/99081811494/صعود-مرگ-...\n",
       " Name: url, dtype: object]"
      ]
     },
     "execution_count": 12,
     "metadata": {},
     "output_type": "execute_result"
    }
   ],
   "source": [
    "retrieve_docs(topk,data_IR)"
   ]
  },
  {
   "cell_type": "code",
   "execution_count": 143,
   "metadata": {},
   "outputs": [
    {
     "data": {
      "text/plain": [
       "[3132    https://www.isna.ir/news/98110705292/بررسی-مشک...\n",
       " Name: url, dtype: object,\n",
       " 5287    https://www.isna.ir/news/98110705292/بررسی-مشک...\n",
       " Name: url, dtype: object,\n",
       " 2235    https://www.isna.ir/news/99081208080/بررسی-افز...\n",
       " Name: url, dtype: object,\n",
       " 3911    https://www.isna.ir/news/99081208080/بررسی-افز...\n",
       " Name: url, dtype: object,\n",
       " 3955    https://www.isna.ir/news/99090100757/قیمت-شیر-...\n",
       " Name: url, dtype: object]"
      ]
     },
     "execution_count": 143,
     "metadata": {},
     "output_type": "execute_result"
    }
   ],
   "source": [
    "topk=query(\"سازمان حمایت از مصرف کننده\",5,my_dict,my_champs,0)\n",
    "retrieve_docs(topk,data_IR)"
   ]
  },
  {
   "cell_type": "code",
   "execution_count": 142,
   "metadata": {},
   "outputs": [
    {
     "data": {
      "text/plain": [
       "[4228    https://www.isna.ir/news/99120100312/رویداد-خا...\n",
       " Name: url, dtype: object,\n",
       " 2379    https://www.isna.ir/news/99102116017/ارائه-گزا...\n",
       " Name: url, dtype: object,\n",
       " 4394    https://www.isna.ir/news/98020703648/ارزش-۱۰-ک...\n",
       " Name: url, dtype: object,\n",
       " 2617    https://www.isna.ir/news/98022814809/تشکیل-۱۰-...\n",
       " Name: url, dtype: object,\n",
       " 6060    https://www.isna.ir/news/99070906684/رتبه-اول-...\n",
       " Name: url, dtype: object]"
      ]
     },
     "execution_count": 142,
     "metadata": {},
     "output_type": "execute_result"
    }
   ],
   "source": [
    "retrieve_docs(topk,data_IR)"
   ]
  },
  {
   "cell_type": "code",
   "execution_count": 140,
   "metadata": {},
   "outputs": [
    {
     "data": {
      "text/plain": [
       "[(-1.7357404059721542, 149),\n",
       " (-1.7031733170033982, 5964),\n",
       " (-1.6158117610958103, 6408),\n",
       " (-1.5916403585637995, 6005),\n",
       " (-1.5352852966576216, 684)]"
      ]
     },
     "execution_count": 140,
     "metadata": {},
     "output_type": "execute_result"
    }
   ],
   "source": [
    "topk"
   ]
  },
  {
   "cell_type": "code",
   "execution_count": 41,
   "metadata": {},
   "outputs": [],
   "source": [
    "topk=query(\"واکسیناسیون بیماری کرونا در جهان\",10,my_dict,my_champs,1)"
   ]
  },
  {
   "cell_type": "code",
   "execution_count": 20,
   "metadata": {},
   "outputs": [
    {
     "data": {
      "text/plain": [
       "[(-0.7857281437102277, 6458),\n",
       " (-0.7857281437102277, 6464),\n",
       " (-0.6169447948270286, 5964),\n",
       " (-0.4887679279028567, 6444),\n",
       " (-0.4645062162973372, 6411),\n",
       " (-0.35801965094416827, 1319),\n",
       " (-0.3448540985911378, 1320),\n",
       " (-0.3367207962136427, 6273),\n",
       " (-0.294274974464398, 1625),\n",
       " (-0.24770889941060906, 979)]"
      ]
     },
     "execution_count": 20,
     "metadata": {},
     "output_type": "execute_result"
    }
   ],
   "source": [
    "topk"
   ]
  },
  {
   "cell_type": "markdown",
   "metadata": {},
   "source": [
    "# Phase 3"
   ]
  },
  {
   "cell_type": "code",
   "execution_count": 24,
   "metadata": {},
   "outputs": [],
   "source": [
    "import random\n",
    "from tqdm import tqdm"
   ]
  },
  {
   "cell_type": "code",
   "execution_count": 9,
   "metadata": {},
   "outputs": [
    {
     "name": "stderr",
     "output_type": "stream",
     "text": [
      "c:\\users\\parpar\\appdata\\local\\programs\\python\\python37\\lib\\site-packages\\ipykernel_launcher.py:4: FutureWarning: Your version of xlrd is 1.2.0. In xlrd >= 2.0, only the xls format is supported. As a result, the openpyxl engine will be used if it is installed and the engine argument is not specified. Install openpyxl instead.\n",
      "  after removing the cwd from sys.path.\n"
     ]
    }
   ],
   "source": [
    "names=os.listdir(\"IR00_dataset_ph3\")\n",
    "files=[]\n",
    "for i, filename in enumerate(names):\n",
    "     files.append(pd.read_excel(\"IR00_dataset_ph3\"+\"\\\\\"+filename, sheet_name=None)[\"Sheet1\"])"
   ]
  },
  {
   "cell_type": "code",
   "execution_count": 26,
   "metadata": {},
   "outputs": [],
   "source": [
    "idf={}\n",
    "def calc_len(doc):\n",
    "    return np.sqrt(sum(list(map(lambda x:x**2,doc.values()))))\n",
    "\n",
    "def calc_docs(data):\n",
    "    docs={}\n",
    "    lengths={}\n",
    "    idf={}\n",
    "    for i,doc in tqdm(zip(data[\"id\"],data[\"content\"])):\n",
    "        doc=str(doc)\n",
    "        doc=doc.replace(\"انتهای پیام\",\"\")\n",
    "        td=tokenize(doc)\n",
    "        for k,v in td.items():\n",
    "            idf[k]=idf.get(k,0)+v\n",
    "            td[k]=1+math.log(v,10)\n",
    "        for sw in stopwords_list():\n",
    "            if sw in td.keys():\n",
    "                td.pop(sw)\n",
    "        docs[i]=td\n",
    "        lengths[i]=calc_len(docs[i])\n",
    "    N=len(docs)\n",
    "    for docid,tlist in tqdm(docs.items()):\n",
    "        for word,freq in tlist.items():\n",
    "            tf=1+math.log(freq,10)\n",
    "#             in_df=math.log(N/idf[word])\n",
    "            docs[docid][word]=tf/lengths[docid]\n",
    "    return docs,idf"
   ]
  },
  {
   "cell_type": "code",
   "execution_count": 22,
   "metadata": {},
   "outputs": [],
   "source": [
    "offset=int(files[0].tail(1)[\"id\"])\n",
    "files[1][\"id\"]=files[1][\"id\"]+offset\n",
    "offset=int(files[1].tail(1)[\"id\"])\n",
    "files[2][\"id\"]=files[2][\"id\"]+offset\n"
   ]
  },
  {
   "cell_type": "code",
   "execution_count": 23,
   "metadata": {},
   "outputs": [],
   "source": [
    "data=pd.concat(files)"
   ]
  },
  {
   "cell_type": "code",
   "execution_count": 24,
   "metadata": {},
   "outputs": [],
   "source": [
    "data[\"topic\"].replace({\"political\": \"politics\", \"sport\": \"sports\"}, inplace=True)"
   ]
  },
  {
   "cell_type": "code",
   "execution_count": 25,
   "metadata": {},
   "outputs": [],
   "source": [
    "data.index=data.id"
   ]
  },
  {
   "cell_type": "code",
   "execution_count": 26,
   "metadata": {},
   "outputs": [],
   "source": [
    "data=data[data['content'].notnull()]\n",
    "data=data[data['topic'].notnull()]"
   ]
  },
  {
   "cell_type": "markdown",
   "metadata": {},
   "source": [
    "# Kmeans"
   ]
  },
  {
   "cell_type": "code",
   "execution_count": 36,
   "metadata": {},
   "outputs": [
    {
     "ename": "NameError",
     "evalue": "name 'calc_docs' is not defined",
     "output_type": "error",
     "traceback": [
      "\u001b[1;31m---------------------------------------------------------------------------\u001b[0m",
      "\u001b[1;31mNameError\u001b[0m                                 Traceback (most recent call last)",
      "\u001b[1;32m<timed exec>\u001b[0m in \u001b[0;36m<module>\u001b[1;34m\u001b[0m\n",
      "\u001b[1;31mNameError\u001b[0m: name 'calc_docs' is not defined"
     ]
    }
   ],
   "source": [
    "%%time\n",
    "# docs=calc_docs(data)\n",
    "\n",
    "docs,idf=calc_docs(data)"
   ]
  },
  {
   "cell_type": "code",
   "execution_count": 32,
   "metadata": {},
   "outputs": [],
   "source": [
    "# save docs and lengths\n",
    "# file_pi = open('docs.obj', 'wb') \n",
    "# pickle.dump(docs, file_pi)\n",
    "\n",
    "# file_pi = open('lengths.obj', 'wb') \n",
    "# pickle.dump(lengths, file_pi)\n",
    "\n",
    "# file_pi = open('idf.obj', 'wb') \n",
    "# pickle.dump(idf, file_pi)\n"
   ]
  },
  {
   "cell_type": "code",
   "execution_count": 37,
   "metadata": {},
   "outputs": [],
   "source": [
    "# read \n",
    "file_pi = open('docs.obj', 'rb') \n",
    "docs=pickle.load(file_pi)\n",
    "\n",
    "# file_pi = open('lengths.obj', 'rb') \n",
    "# lengths=pickle.load(file_pi)\n",
    "\n",
    "file_pi = open('idf.obj', 'rb') \n",
    "idf=pickle.load(file_pi)"
   ]
  },
  {
   "cell_type": "code",
   "execution_count": 38,
   "metadata": {},
   "outputs": [],
   "source": [
    "def assign_clusters(centres,centre_len,docs):   \n",
    "    \n",
    "    clusters={k:[] for k in range(len(centres))}\n",
    "    for docid in docs.keys():\n",
    "        sim=[]\n",
    "        for i in range(len(centres)):\n",
    "            cosine=0\n",
    "            d1=docs[docid]\n",
    "            d2=centres[i]\n",
    "            for k in d1.keys():\n",
    "                if k in d2.keys():\n",
    "#                     cosine+=(1+math.log(d1[k],10))*(1+math.log(d2[k],10))*math.log(N/idf[k],10)\n",
    "                    cosine+=d1[k]*d2[k]\n",
    "            if centre_len[i]!=0:\n",
    "                sim.append(cosine/np.sqrt(centre_len[i]))\n",
    "        best_centre=np.argmax(sim)\n",
    "        clusters[best_centre].append(docid)\n",
    "\n",
    "    return clusters\n",
    "\n",
    "\n",
    "def calc_centres(clusters,docs):\n",
    "    centres={}\n",
    "    centre_len={k:0 for k in range(len(clusters))}\n",
    "    for centre,followers in clusters.items():\n",
    "        new_centre_tf={}\n",
    "        for f in followers:\n",
    "            for word,tf in docs[f].items():\n",
    "                new_centre_tf[word]=new_centre_tf.get(word,0)+tf\n",
    "        l=0\n",
    "        for k in new_centre_tf.keys():\n",
    "            if len(followers)!=0:\n",
    "                new_centre_tf[k]/=len(followers)\n",
    "            l+=new_centre_tf[k]**2\n",
    "        centre_len[centre]=math.sqrt(l)\n",
    "\n",
    "        centres[centre]=new_centre_tf\n",
    "    return centres,centre_len\n",
    "\n",
    "\n",
    "def kmeans(docs,k,iteration):\n",
    "    c_ids = (np.random.uniform(0, len(docs), size = k).astype(int))\n",
    "    centres=[docs[i] for i in c_ids]\n",
    "    centre_len={}\n",
    "    for i in range(len(centres)):\n",
    "        centre_len[i]=calc_len(centres[i])\n",
    "    for i in tqdm(range(iteration)):\n",
    "        clusters=assign_clusters(centres,centre_len,docs)\n",
    "        centres,centre_len=calc_centres(clusters,docs)\n",
    "        for k,v in clusters.items():\n",
    "            print(k,\":\",len(v))\n",
    "    return centres,centre_len,clusters"
   ]
  },
  {
   "cell_type": "code",
   "execution_count": 37,
   "metadata": {},
   "outputs": [
    {
     "name": "stderr",
     "output_type": "stream",
     "text": [
      " 10%|████████▎                                                                          | 1/10 [00:30<04:32, 30.30s/it]"
     ]
    },
    {
     "name": "stdout",
     "output_type": "stream",
     "text": [
      "0 : 6941\n",
      "1 : 1239\n",
      "2 : 3536\n",
      "3 : 3467\n",
      "4 : 3591\n",
      "5 : 2141\n",
      "6 : 4374\n",
      "7 : 12640\n",
      "8 : 6628\n",
      "9 : 5504\n"
     ]
    },
    {
     "name": "stderr",
     "output_type": "stream",
     "text": [
      "\r",
      " 20%|████████████████▌                                                                  | 2/10 [02:06<09:13, 69.18s/it]"
     ]
    },
    {
     "name": "stdout",
     "output_type": "stream",
     "text": [
      "0 : 3980\n",
      "1 : 2536\n",
      "2 : 5599\n",
      "3 : 4821\n",
      "4 : 1867\n",
      "5 : 2091\n",
      "6 : 7821\n",
      "7 : 8041\n",
      "8 : 8829\n",
      "9 : 4476\n"
     ]
    },
    {
     "name": "stderr",
     "output_type": "stream",
     "text": [
      "\r",
      " 30%|████████████████████████▉                                                          | 3/10 [03:33<08:59, 77.05s/it]"
     ]
    },
    {
     "name": "stdout",
     "output_type": "stream",
     "text": [
      "0 : 3883\n",
      "1 : 2086\n",
      "2 : 5649\n",
      "3 : 5918\n",
      "4 : 2137\n",
      "5 : 2541\n",
      "6 : 8025\n",
      "7 : 6998\n",
      "8 : 8521\n",
      "9 : 4303\n"
     ]
    },
    {
     "name": "stderr",
     "output_type": "stream",
     "text": [
      "\r",
      " 40%|█████████████████████████████████▏                                                 | 4/10 [04:38<07:15, 72.59s/it]"
     ]
    },
    {
     "name": "stdout",
     "output_type": "stream",
     "text": [
      "0 : 3722\n",
      "1 : 1859\n",
      "2 : 5458\n",
      "3 : 6799\n",
      "4 : 2137\n",
      "5 : 2766\n",
      "6 : 8121\n",
      "7 : 7595\n",
      "8 : 8192\n",
      "9 : 3412\n"
     ]
    },
    {
     "name": "stderr",
     "output_type": "stream",
     "text": [
      "\r",
      " 50%|█████████████████████████████████████████▌                                         | 5/10 [05:25<05:16, 63.21s/it]"
     ]
    },
    {
     "name": "stdout",
     "output_type": "stream",
     "text": [
      "0 : 3506\n",
      "1 : 1772\n",
      "2 : 5077\n",
      "3 : 7481\n",
      "4 : 2050\n",
      "5 : 2963\n",
      "6 : 8176\n",
      "7 : 7795\n",
      "8 : 7942\n",
      "9 : 3299\n"
     ]
    },
    {
     "name": "stderr",
     "output_type": "stream",
     "text": [
      "\r",
      " 60%|█████████████████████████████████████████████████▊                                 | 6/10 [06:10<03:48, 57.04s/it]"
     ]
    },
    {
     "name": "stdout",
     "output_type": "stream",
     "text": [
      "0 : 3375\n",
      "1 : 1728\n",
      "2 : 4928\n",
      "3 : 7732\n",
      "4 : 2021\n",
      "5 : 3081\n",
      "6 : 8186\n",
      "7 : 8072\n",
      "8 : 7664\n",
      "9 : 3274\n"
     ]
    },
    {
     "name": "stderr",
     "output_type": "stream",
     "text": [
      "\r",
      " 70%|██████████████████████████████████████████████████████████                         | 7/10 [06:55<02:39, 53.05s/it]"
     ]
    },
    {
     "name": "stdout",
     "output_type": "stream",
     "text": [
      "0 : 3301\n",
      "1 : 1670\n",
      "2 : 4894\n",
      "3 : 7822\n",
      "4 : 1975\n",
      "5 : 3141\n",
      "6 : 8217\n",
      "7 : 8307\n",
      "8 : 7464\n",
      "9 : 3270\n"
     ]
    },
    {
     "name": "stderr",
     "output_type": "stream",
     "text": [
      "\r",
      " 80%|██████████████████████████████████████████████████████████████████▍                | 8/10 [07:57<01:51, 55.95s/it]"
     ]
    },
    {
     "name": "stdout",
     "output_type": "stream",
     "text": [
      "0 : 3230\n",
      "1 : 1654\n",
      "2 : 4864\n",
      "3 : 7869\n",
      "4 : 1992\n",
      "5 : 3148\n",
      "6 : 8254\n",
      "7 : 8453\n",
      "8 : 7334\n",
      "9 : 3263\n"
     ]
    },
    {
     "name": "stderr",
     "output_type": "stream",
     "text": [
      "\r",
      " 90%|██████████████████████████████████████████████████████████████████████████▋        | 9/10 [08:53<00:55, 55.89s/it]"
     ]
    },
    {
     "name": "stdout",
     "output_type": "stream",
     "text": [
      "0 : 3171\n",
      "1 : 1684\n",
      "2 : 4850\n",
      "3 : 7899\n",
      "4 : 1995\n",
      "5 : 3161\n",
      "6 : 8288\n",
      "7 : 8515\n",
      "8 : 7236\n",
      "9 : 3262\n"
     ]
    },
    {
     "name": "stderr",
     "output_type": "stream",
     "text": [
      "100%|██████████████████████████████████████████████████████████████████████████████████| 10/10 [09:44<00:00, 58.46s/it]"
     ]
    },
    {
     "name": "stdout",
     "output_type": "stream",
     "text": [
      "0 : 3110\n",
      "1 : 1729\n",
      "2 : 4825\n",
      "3 : 7967\n",
      "4 : 2028\n",
      "5 : 3155\n",
      "6 : 8321\n",
      "7 : 8504\n",
      "8 : 7160\n",
      "9 : 3262\n",
      "Wall time: 9min 44s\n"
     ]
    },
    {
     "name": "stderr",
     "output_type": "stream",
     "text": [
      "\n"
     ]
    }
   ],
   "source": [
    "%%time\n",
    "centres,centre_len,clusters=kmeans(docs,10,10)"
   ]
  },
  {
   "cell_type": "code",
   "execution_count": null,
   "metadata": {},
   "outputs": [],
   "source": [
    "# %%time\n",
    "# centres_5,centre_len_5,clusters_5=kmeans(docs,5,10)"
   ]
  },
  {
   "cell_type": "code",
   "execution_count": null,
   "metadata": {},
   "outputs": [],
   "source": [
    "# %%time\n",
    "# centres_7,centre_len_7,clusters_7=kmeans(docs,7,10)\n"
   ]
  },
  {
   "cell_type": "code",
   "execution_count": 46,
   "metadata": {},
   "outputs": [],
   "source": [
    "# # save centres and clusters\n",
    "# kcentres = open('kmeans_centres1010.obj', 'wb') \n",
    "# pickle.dump(centres, kcentres)\n",
    "# kclusters = open('kmeans_clusters1010.obj', 'wb') \n",
    "# pickle.dump(clusters, kclusters)\n",
    "# kclens = open('kmeans_clens1010.obj', 'wb') \n",
    "# pickle.dump(centre_len, kclens)\n"
   ]
  },
  {
   "cell_type": "code",
   "execution_count": 39,
   "metadata": {},
   "outputs": [],
   "source": [
    "# read centres and clusters\n",
    "file = open('kmeans_centres1010.obj', 'rb') \n",
    "kcentres=pickle.load(file)\n",
    "file = open('kmeans_clusters1010.obj', 'rb') \n",
    "kclusters=pickle.load(file)\n",
    "# file = open('kmeans_clens1010.obj', 'rb') \n",
    "# kclens=pickle.load(file)"
   ]
  },
  {
   "cell_type": "code",
   "execution_count": 48,
   "metadata": {},
   "outputs": [],
   "source": [
    "def RSS(centres,centre_len,clusters):\n",
    "    rss=[0 for i in range(len(centres))]\n",
    "    for k,v in clusters.items():\n",
    "        for i in tqdm(v):\n",
    "            for word in set(centres[k].keys()).union(set(docs[i].keys())):\n",
    "                rss[k]+=abs(centres.get(word,0)-docs[i].get(word,0))**2\n",
    "        if centre_len[k]!=0:\n",
    "            rss[k]/=centre_len[k]\n",
    "    return sum(rss)"
   ]
  },
  {
   "cell_type": "code",
   "execution_count": 49,
   "metadata": {},
   "outputs": [],
   "source": [
    "# %%time\n",
    "# RSS(kcentres,kclens,kclusters)"
   ]
  },
  {
   "cell_type": "code",
   "execution_count": 50,
   "metadata": {},
   "outputs": [],
   "source": [
    "# models=[]\n",
    "# rss=[]\n",
    "# for i in tqdm(range(5)):\n",
    "#     centres,centre_len,clusters=kmeans(docs,10,5)\n",
    "#     models.append([centres,centre_len,clusters])\n",
    "#     rss.append(RSS(centres,centre_len,clusters))"
   ]
  },
  {
   "cell_type": "code",
   "execution_count": 40,
   "metadata": {},
   "outputs": [],
   "source": [
    "def query_kmeans(query,clusters,centres,b,K):\n",
    "    q_doc=normalize_query(query)\n",
    "    print(q_doc)\n",
    "    heap=[]\n",
    "    #compare with leaders\n",
    "    for c in range(len(centres)):\n",
    "        cosine=0\n",
    "        for k in q_doc.keys():\n",
    "            if k in centres[c].keys():\n",
    "                cosine+=centres[c][k]*q_doc[k]\n",
    "        heapq.heappush(heap,(-cosine, c))\n",
    "    \n",
    "    docs_to_search=[]\n",
    "    \n",
    "    for i in range(b):\n",
    "        poped=heapq.heappop(heap)\n",
    "        print(poped[1])\n",
    "        docs_to_search.extend(clusters[poped[1]])\n",
    "    heapk=[]\n",
    "    for docid in docs_to_search:\n",
    "        cosine=0\n",
    "        for k in q_doc.keys():\n",
    "            if k in docs[docid].keys():\n",
    "                cosine+=docs[docid][k]*q_doc[k]\n",
    "        heapq.heappush(heapk,(-cosine, docid))\n",
    "    results=[]\n",
    "    for i in range(K):\n",
    "        results.append(heapq.heappop(heapk))\n",
    "    return results"
   ]
  },
  {
   "cell_type": "code",
   "execution_count": 41,
   "metadata": {},
   "outputs": [
    {
     "name": "stdout",
     "output_type": "stream",
     "text": [
      "{'توخل': 1.0, 'مادرید': 1.0, 'قهرمان': 1.0, 'زید': 1.0, 'چلسی': 1.0, 'رئال': 1.0}\n",
      "6\n"
     ]
    },
    {
     "data": {
      "text/plain": [
       "[id\n",
       " 29460    https://www.farsnews.ir/news/13990720000394/وض...\n",
       " Name: url, dtype: object,\n",
       " id\n",
       " 29553    https://www.farsnews.ir/news/13990716000917/را...\n",
       " Name: url, dtype: object,\n",
       " id\n",
       " 38197    https://www.farsnews.ir/news/13990910000168/سر...\n",
       " Name: url, dtype: object,\n",
       " id\n",
       " 31301    https://www.farsnews.ir/news/13990529000612/صا...\n",
       " Name: url, dtype: object,\n",
       " id\n",
       " 32914    https://www.farsnews.ir/news/13990417000584/اح...\n",
       " Name: url, dtype: object]"
      ]
     },
     "execution_count": 41,
     "metadata": {},
     "output_type": "execute_result"
    }
   ],
   "source": [
    "retrieve_docs(query_kmeans(\"توخل مادرید قهرمانان زیدان چلسی رئال\",kclusters,kcentres,1,5),data)"
   ]
  },
  {
   "cell_type": "code",
   "execution_count": 42,
   "metadata": {},
   "outputs": [
    {
     "data": {
      "text/plain": [
       "140283"
      ]
     },
     "execution_count": 42,
     "metadata": {},
     "output_type": "execute_result"
    }
   ],
   "source": [
    "len(inverted_index)"
   ]
  },
  {
   "cell_type": "code",
   "execution_count": 44,
   "metadata": {},
   "outputs": [
    {
     "name": "stdout",
     "output_type": "stream",
     "text": [
      "{'اعزام': 1.0, 'کاروان': 1.0, 'اردو': 1.0, 'نور': 1.0}\n",
      "0\n"
     ]
    },
    {
     "data": {
      "text/plain": [
       "[id\n",
       " 9702    https://www.isna.ir/news/98021106170/حضور-لرست...\n",
       " Name: url, dtype: object,\n",
       " id\n",
       " 30319    https://www.farsnews.ir/news/13990627000294/90...\n",
       " Name: url, dtype: object,\n",
       " id\n",
       " 31120    https://www.farsnews.ir/news/13990603000575/2-...\n",
       " Name: url, dtype: object,\n",
       " id\n",
       " 35394    https://www.farsnews.ir/news/13990217000324/رش...\n",
       " Name: url, dtype: object,\n",
       " id\n",
       " 32159    https://www.farsnews.ir/news/13990506000599/پی...\n",
       " Name: url, dtype: object]"
      ]
     },
     "execution_count": 44,
     "metadata": {},
     "output_type": "execute_result"
    }
   ],
   "source": [
    "retrieve_docs(query_kmeans(\"اعزام کاروان های اردوی راهیان نور\",kclusters,kcentres,1,5),data)"
   ]
  },
  {
   "cell_type": "code",
   "execution_count": 130,
   "metadata": {},
   "outputs": [
    {
     "name": "stdout",
     "output_type": "stream",
     "text": [
      "{'تعطیل': 1.0, 'مدارس': 1.0, 'مراکز': 1.0, 'آموزش': 1.0}\n",
      "7\n"
     ]
    },
    {
     "data": {
      "text/plain": [
       "[id\n",
       " 7194    https://www.isna.ir/news/98120806789/مهدهای-کو...\n",
       " Name: url, dtype: object,\n",
       " id\n",
       " 7193    https://www.isna.ir/news/98120806794/دانش-آموز...\n",
       " Name: url, dtype: object,\n",
       " id\n",
       " 6066    https://www.isna.ir/news/99071108223/کرونا-مدا...\n",
       " Name: url, dtype: object,\n",
       " id\n",
       " 6071    https://www.isna.ir/news/99071108223/کرونا-مدا...\n",
       " Name: url, dtype: object,\n",
       " id\n",
       " 6145    https://www.isna.ir/news/99080905279/اطلاعیه-ج...\n",
       " Name: url, dtype: object]"
      ]
     },
     "execution_count": 130,
     "metadata": {},
     "output_type": "execute_result"
    }
   ],
   "source": [
    "retrieve_docs(query_kmeans(\"تعطیلی مدارس و مراکز آموزشی\",clusters,centres,1,5),data)"
   ]
  },
  {
   "cell_type": "code",
   "execution_count": 132,
   "metadata": {},
   "outputs": [
    {
     "name": "stdout",
     "output_type": "stream",
     "text": [
      "{'حقوق': 1.0, 'معلمان': 1.0, 'تومان': 1.0, '#است': 1.0}\n",
      "2\n"
     ]
    },
    {
     "data": {
      "text/plain": [
       "[id\n",
       " 44943    https://www.farsnews.ir/news/13991002000138/نم...\n",
       " Name: url, dtype: object,\n",
       " id\n",
       " 43017    https://www.farsnews.ir/news/13991114000553/جم...\n",
       " Name: url, dtype: object,\n",
       " id\n",
       " 39629    https://www.farsnews.ir/news/14000202000663/تج...\n",
       " Name: url, dtype: object,\n",
       " id\n",
       " 42481    https://www.farsnews.ir/news/13991126000321/تج...\n",
       " Name: url, dtype: object,\n",
       " id\n",
       " 49551    https://www.farsnews.ir/news/13990623000559/تج...\n",
       " Name: url, dtype: object]"
      ]
     },
     "execution_count": 132,
     "metadata": {},
     "output_type": "execute_result"
    }
   ],
   "source": [
    "retrieve_docs(query_kmeans(\"حقوق معلمان چند تومان است\",clusters,centres,1,5),data)"
   ]
  },
  {
   "cell_type": "code",
   "execution_count": 55,
   "metadata": {},
   "outputs": [
    {
     "data": {
      "text/plain": [
       "id                                                     50054\n",
       "content    به گزارش خبرنگار حوزه دولت خبرگزاری فارس، محمو...\n",
       "topic                                               politics\n",
       "url        https://www.farsnews.ir/news/13990612000526/وا...\n",
       "Name: 50054, dtype: object"
      ]
     },
     "execution_count": 55,
     "metadata": {},
     "output_type": "execute_result"
    }
   ],
   "source": [
    "data.iloc[50053]"
   ]
  },
  {
   "cell_type": "code",
   "execution_count": 56,
   "metadata": {},
   "outputs": [
    {
     "name": "stdout",
     "output_type": "stream",
     "text": [
      "{'حقوق': 1.0, 'معلمان': 1.0}\n",
      "2\n"
     ]
    },
    {
     "data": {
      "text/plain": [
       "[id\n",
       " 39629    https://www.farsnews.ir/news/14000202000663/تج...\n",
       " Name: url, dtype: object,\n",
       " id\n",
       " 44943    https://www.farsnews.ir/news/13991002000138/نم...\n",
       " Name: url, dtype: object,\n",
       " id\n",
       " 43017    https://www.farsnews.ir/news/13991114000553/جم...\n",
       " Name: url, dtype: object,\n",
       " id\n",
       " 44839    https://www.farsnews.ir/news/13991003000282/چر...\n",
       " Name: url, dtype: object,\n",
       " id\n",
       " 42481    https://www.farsnews.ir/news/13991126000321/تج...\n",
       " Name: url, dtype: object]"
      ]
     },
     "execution_count": 56,
     "metadata": {},
     "output_type": "execute_result"
    }
   ],
   "source": [
    "retrieve_docs(query_kmeans(\"حقوق معلمان\",kclusters,kcentres,1,5),data)"
   ]
  },
  {
   "cell_type": "markdown",
   "metadata": {},
   "source": [
    "# KNN"
   ]
  },
  {
   "cell_type": "code",
   "execution_count": 57,
   "metadata": {},
   "outputs": [
    {
     "name": "stdout",
     "output_type": "stream",
     "text": [
      "Wall time: 4min 21s\n"
     ]
    }
   ],
   "source": [
    "%%time\n",
    "inverted_index,lengths=make_dictionary(data)"
   ]
  },
  {
   "cell_type": "code",
   "execution_count": 21,
   "metadata": {},
   "outputs": [],
   "source": [
    "# save docs and lengths\n",
    "# file_pi = open('inverted_index.obj', 'wb') \n",
    "# pickle.dump(inverted_index, file_pi)\n",
    "\n",
    "# file_pi = open('ii_lengths.obj', 'wb') \n",
    "# pickle.dump(lengths, file_pi)\n",
    "\n",
    "# read \n",
    "file_pi = open('inverted_index.obj', 'rb') \n",
    "inverted_index=pickle.load(file_pi)\n",
    "\n",
    "file_pi = open('ii_lengths.obj', 'rb') \n",
    "lengths=pickle.load(file_pi)\n"
   ]
  },
  {
   "cell_type": "code",
   "execution_count": 68,
   "metadata": {},
   "outputs": [],
   "source": [
    "cats=['sports', 'politics', 'economy', 'health', 'culture']\n",
    "\n",
    "def normalize_doc(doc):\n",
    "    doc=str(doc)\n",
    "    doc=doc.replace(\"انتهای پیام\",\"\")\n",
    "    doc=tokenize(doc)\n",
    "    #remove stop words\n",
    "    for i in stopwords_list():\n",
    "        if i in doc.keys():\n",
    "            doc.pop(i)\n",
    "    return doc\n",
    "\n",
    "N=len(data[\"content\"])\n",
    "def compute_scores(q,dictionary): #cosine similarity(slide 38/ lecture 6)\n",
    "    sims={} \n",
    "    for k,v in q.items():\n",
    "        idf=math.log(N/dictionary[k][0])\n",
    "        for docid,w in dictionary[k][1].items():\n",
    "            if docid in sims.keys():\n",
    "                sims[docid]+=w*v*idf\n",
    "            else:\n",
    "                sims[docid]=w*v*idf\n",
    "    for docid in sims.keys():\n",
    "        sims[docid]=sims[docid]/lengths[docid]\n",
    "    return sims\n",
    "\n",
    "def knn(q,inverted_index, K,data):\n",
    "    \n",
    "    # compute all similarities\n",
    "    sims={} \n",
    "    for k,v in q.items():\n",
    "        if k not in inverted_index.keys():\n",
    "            continue\n",
    "        idf=math.log(N/inverted_index[k][0])\n",
    "        for docid,w in inverted_index[k][1].items():\n",
    "            if docid in sims.keys():\n",
    "                sims[docid]+=w*v*idf\n",
    "            else:\n",
    "                sims[docid]=w*v*idf\n",
    "    for docid in sims.keys():\n",
    "        sims[docid]=sims[docid]/lengths[docid]\n",
    "    \n",
    "    if len(sims) < K:\n",
    "        K = len(sims)\n",
    "    \n",
    "    #find k nearest using heap\n",
    "    best_scores =[]\n",
    "    heap = []\n",
    "    for docid,score in sims.items():\n",
    "        heapq.heappush(heap,(-score, docid))\n",
    "    max_cat=\"none\"\n",
    "    maximum=0\n",
    "    for i in range(K):\n",
    "        category={i:0 for i in cats }\n",
    "        poped=heapq.heappop(heap)\n",
    "        cat=data.topic.loc[poped[1]]\n",
    "        category[cat]=category[cat]+1\n",
    "        if category[cat]>maximum:\n",
    "            maximum=category[cat]\n",
    "            max_cat=cat\n",
    "    return max_cat"
   ]
  },
  {
   "cell_type": "code",
   "execution_count": 69,
   "metadata": {
    "scrolled": true
   },
   "outputs": [
    {
     "data": {
      "text/plain": [
       "'health'"
      ]
     },
     "execution_count": 69,
     "metadata": {},
     "output_type": "execute_result"
    }
   ],
   "source": [
    "knn(normalize_doc(\"در ایران واکسن کرونا\"),inverted_index,7,data)"
   ]
  },
  {
   "cell_type": "code",
   "execution_count": 144,
   "metadata": {},
   "outputs": [
    {
     "data": {
      "text/plain": [
       "'economy'"
      ]
     },
     "execution_count": 144,
     "metadata": {},
     "output_type": "execute_result"
    }
   ],
   "source": [
    "knn(normalize_doc(\" سرمایه گذاری در بازار بورس\"),inverted_index,7,data)"
   ]
  },
  {
   "cell_type": "code",
   "execution_count": 71,
   "metadata": {},
   "outputs": [
    {
     "data": {
      "text/plain": [
       "'culture'"
      ]
     },
     "execution_count": 71,
     "metadata": {},
     "output_type": "execute_result"
    }
   ],
   "source": [
    "knn(normalize_doc(\"گالری هنری\"),inverted_index,7,data)"
   ]
  },
  {
   "cell_type": "code",
   "execution_count": 72,
   "metadata": {},
   "outputs": [
    {
     "data": {
      "text/plain": [
       "'sports'"
      ]
     },
     "execution_count": 72,
     "metadata": {},
     "output_type": "execute_result"
    }
   ],
   "source": [
    "knn(normalize_doc(\"شطرنج بانوان\"),inverted_index,7,data)"
   ]
  },
  {
   "cell_type": "code",
   "execution_count": 224,
   "metadata": {},
   "outputs": [
    {
     "data": {
      "text/plain": [
       "{'culture', 'economy', 'health', 'politics', 'sports'}"
      ]
     },
     "execution_count": 224,
     "metadata": {},
     "output_type": "execute_result"
    }
   ],
   "source": [
    "set(data.topic)"
   ]
  },
  {
   "cell_type": "markdown",
   "metadata": {},
   "source": [
    "Label datas from phase1"
   ]
  },
  {
   "cell_type": "code",
   "execution_count": 120,
   "metadata": {},
   "outputs": [
    {
     "name": "stderr",
     "output_type": "stream",
     "text": [
      "100%|█████████████████████████████████████████████████████████████████████████████| 6996/6996 [00:29<00:00, 234.48it/s]\n"
     ]
    }
   ],
   "source": [
    "data_IR_normalized={}\n",
    "for i in tqdm(range(len(data_IR))):\n",
    "    data_IR_normalized[data_IR.iloc[i].id]=normalize_doc(data_IR.iloc[i])"
   ]
  },
  {
   "cell_type": "code",
   "execution_count": 230,
   "metadata": {},
   "outputs": [
    {
     "name": "stderr",
     "output_type": "stream",
     "text": [
      "100%|██████████████████████████████████████████████████████████████████████████████| 6996/6996 [15:07<00:00,  7.71it/s]\n"
     ]
    }
   ],
   "source": [
    "data_cats={c:[] for c in cats}\n",
    "data_cats[\"none\"]=[]\n",
    "for k,v in tqdm(data_IR_normalized.items()):\n",
    "    data_cats[knn(v,inverted_index,5,data)].append(k)"
   ]
  },
  {
   "cell_type": "code",
   "execution_count": 121,
   "metadata": {},
   "outputs": [],
   "source": [
    "# # save categories\n",
    "# # file_pi = open('categories.obj', 'wb') \n",
    "# # pickle.dump(data_cats, file_pi)\n",
    "# file_pi = open('data_labled.obj', 'wb') \n",
    "# pickle.dump(data_IR_normalized, file_pi)\n",
    "# #read categories\n",
    "# # file_pi = open('categories.obj', 'rb') \n",
    "# # data_cats = pickle.load(file_pi)\n",
    "# file_pi = open('data_labled.obj', 'rb') \n",
    "# data_IR_normalized = pickle.load(file_pi)"
   ]
  },
  {
   "cell_type": "code",
   "execution_count": 77,
   "metadata": {},
   "outputs": [
    {
     "name": "stdout",
     "output_type": "stream",
     "text": [
      "sports : 1808\n",
      "politics : 2046\n",
      "economy : 1465\n",
      "health : 1214\n",
      "culture : 461\n",
      "none : 2\n"
     ]
    }
   ],
   "source": [
    "for k,v in data_cats.items():\n",
    "    print(k,\":\",len(v))"
   ]
  },
  {
   "cell_type": "code",
   "execution_count": 124,
   "metadata": {},
   "outputs": [],
   "source": [
    "def query_knn(query,categories,docs,idf,K):\n",
    "    sp = query.split(\" \")\n",
    "    cat = sp[0][4:]\n",
    "    \n",
    "    q_doc=normalize_query(\"\".join(sp[1:]))\n",
    "    print(q_doc)\n",
    "    heap=[]\n",
    "    for i in categories[cat]:\n",
    "        cosine=0\n",
    "        for k,v in q_doc.items():\n",
    "            if k in docs[i].keys():\n",
    "                cosine+=v*docs[i][k]*idf[k][0]\n",
    "        heapq.heappush(heap,(-cosine, i))\n",
    "    result=[]\n",
    "    for i in range(K):\n",
    "        result.append(heapq.heappop(heap))\n",
    "    return result"
   ]
  },
  {
   "cell_type": "code",
   "execution_count": 152,
   "metadata": {},
   "outputs": [
    {
     "name": "stdout",
     "output_type": "stream",
     "text": [
      "{'کرونا': 1.0}\n"
     ]
    },
    {
     "data": {
      "text/plain": [
       "[298    https://www.isna.ir/news/99042619747/تکذیب-خبر...\n",
       " Name: url, dtype: object,\n",
       " 683    https://www.isna.ir/news/99082315541/ابراهیم-ج...\n",
       " Name: url, dtype: object,\n",
       " 200    https://www.isna.ir/news/99032717763/کرونایی-ه...\n",
       " Name: url, dtype: object,\n",
       " 367    https://www.isna.ir/news/99052216709/رییس-فدرا...\n",
       " Name: url, dtype: object,\n",
       " 318    https://www.isna.ir/news/99050402689/سرپرست-تی...\n",
       " Name: url, dtype: object]"
      ]
     },
     "execution_count": 152,
     "metadata": {},
     "output_type": "execute_result"
    }
   ],
   "source": [
    "topk=query_knn(\"cat:sports کرونا\", data_cats,docs,inverted_index,5)\n",
    "retrieve_docs(topk,data_IR)"
   ]
  },
  {
   "cell_type": "code",
   "execution_count": 151,
   "metadata": {},
   "outputs": [
    {
     "name": "stdout",
     "output_type": "stream",
     "text": [
      "{'کرونا': 1.0}\n"
     ]
    },
    {
     "data": {
      "text/plain": [
       "[2035    https://www.isna.ir/news/99061309882/تکذیب-شای...\n",
       " Name: url, dtype: object,\n",
       " 2249    https://www.isna.ir/news/99082215136/نماینده-ا...\n",
       " Name: url, dtype: object,\n",
       " 2290    https://www.isna.ir/news/99091108977/چنارانی-و...\n",
       " Name: url, dtype: object,\n",
       " 1740    https://www.isna.ir/news/99011608234/محمدرضا-خ...\n",
       " Name: url, dtype: object,\n",
       " 1883    https://www.isna.ir/news/99041410245/زاهدی-از-...\n",
       " Name: url, dtype: object]"
      ]
     },
     "execution_count": 151,
     "metadata": {},
     "output_type": "execute_result"
    }
   ],
   "source": [
    "topk=query_knn(\"cat:politics کرونا\", data_cats,docs,inverted_index,5)\n",
    "retrieve_docs(topk,data_IR)"
   ]
  },
  {
   "cell_type": "code",
   "execution_count": 150,
   "metadata": {},
   "outputs": [
    {
     "name": "stdout",
     "output_type": "stream",
     "text": [
      "{'کرونا': 1.0}\n"
     ]
    },
    {
     "data": {
      "text/plain": [
       "[2035    https://www.isna.ir/news/99061309882/تکذیب-شای...\n",
       " Name: url, dtype: object,\n",
       " 2249    https://www.isna.ir/news/99082215136/نماینده-ا...\n",
       " Name: url, dtype: object,\n",
       " 2290    https://www.isna.ir/news/99091108977/چنارانی-و...\n",
       " Name: url, dtype: object,\n",
       " 1740    https://www.isna.ir/news/99011608234/محمدرضا-خ...\n",
       " Name: url, dtype: object,\n",
       " 1883    https://www.isna.ir/news/99041410245/زاهدی-از-...\n",
       " Name: url, dtype: object]"
      ]
     },
     "execution_count": 150,
     "metadata": {},
     "output_type": "execute_result"
    }
   ],
   "source": [
    "topk=query_knn(\"cat:health کرونا\", data_cats,docs,inverted_index,5)\n",
    "retrieve_docs(topk,data_IR)"
   ]
  },
  {
   "cell_type": "code",
   "execution_count": null,
   "metadata": {},
   "outputs": [],
   "source": [
    "topk=query_knn(\"cat:health انقلاب\", data_cats,docs,inverted_index,5)\n",
    "retrieve_docs(topk,data_IR)"
   ]
  },
  {
   "cell_type": "code",
   "execution_count": 154,
   "metadata": {},
   "outputs": [
    {
     "name": "stdout",
     "output_type": "stream",
     "text": [
      "{'انقلاب': 1.0}\n"
     ]
    },
    {
     "data": {
      "text/plain": [
       "[2879    https://www.isna.ir/news/98070100781/یک-فعال-د...\n",
       " Name: url, dtype: object,\n",
       " 2708    https://www.isna.ir/news/98041709012/تحلیل-مرح...\n",
       " Name: url, dtype: object,\n",
       " 2876    https://www.isna.ir/news/98062919996/اقتدار-کن...\n",
       " Name: url, dtype: object,\n",
       " 3037    https://www.isna.ir/news/98091309931/بسیج-برنا...\n",
       " Name: url, dtype: object,\n",
       " 2905    https://www.isna.ir/news/98071209011/اتفاقات-ا...\n",
       " Name: url, dtype: object]"
      ]
     },
     "execution_count": 154,
     "metadata": {},
     "output_type": "execute_result"
    }
   ],
   "source": [
    "topk=query_knn(\"cat:culture انقلاب\", data_cats,docs,inverted_index,5)\n",
    "retrieve_docs(topk,data_IR)"
   ]
  },
  {
   "cell_type": "code",
   "execution_count": 153,
   "metadata": {},
   "outputs": [
    {
     "name": "stdout",
     "output_type": "stream",
     "text": [
      "{'انقلاب': 1.0}\n"
     ]
    },
    {
     "data": {
      "text/plain": [
       "[3301    https://www.isna.ir/news/99020906760/اعتبار-۷۰...\n",
       " Name: url, dtype: object,\n",
       " 2863    https://www.isna.ir/news/98061708728/پیگیری-فر...\n",
       " Name: url, dtype: object,\n",
       " 5275    https://www.isna.ir/news/98110604396/10-هزار-و...\n",
       " Name: url, dtype: object,\n",
       " 5276    https://www.isna.ir/news/98110604329/کلنگ-4000...\n",
       " Name: url, dtype: object,\n",
       " 5274    https://www.isna.ir/news/98110604422/آیین-کلنگ...\n",
       " Name: url, dtype: object]"
      ]
     },
     "execution_count": 153,
     "metadata": {},
     "output_type": "execute_result"
    }
   ],
   "source": [
    "topk=query_knn(\"cat:economy انقلاب\", data_cats,docs,inverted_index,5)\n",
    "retrieve_docs(topk,data_IR)"
   ]
  },
  {
   "cell_type": "code",
   "execution_count": 129,
   "metadata": {},
   "outputs": [
    {
     "data": {
      "text/plain": [
       "[(-773.5279564343397, 299),\n",
       " (-740.3713727942745, 684),\n",
       " (-636.973485597178, 201),\n",
       " (-629.1959278361627, 368),\n",
       " (-602.9717559667836, 319)]"
      ]
     },
     "execution_count": 129,
     "metadata": {},
     "output_type": "execute_result"
    }
   ],
   "source": [
    "topk"
   ]
  },
  {
   "cell_type": "code",
   "execution_count": 18,
   "metadata": {},
   "outputs": [],
   "source": [
    "data=files[0]"
   ]
  },
  {
   "cell_type": "code",
   "execution_count": 20,
   "metadata": {},
   "outputs": [
    {
     "data": {
      "text/plain": [
       "9586    https://www.isna.ir/news/98012208857/ضرورت-تول...\n",
       "Name: url, dtype: object"
      ]
     },
     "execution_count": 20,
     "metadata": {},
     "output_type": "execute_result"
    }
   ],
   "source": [
    "data[data[\"id\"]==9587][\"url\"]"
   ]
  },
  {
   "cell_type": "code",
   "execution_count": null,
   "metadata": {},
   "outputs": [],
   "source": []
  }
 ],
 "metadata": {
  "kernelspec": {
   "display_name": "Python 3",
   "language": "python",
   "name": "python3"
  },
  "language_info": {
   "codemirror_mode": {
    "name": "ipython",
    "version": 3
   },
   "file_extension": ".py",
   "mimetype": "text/x-python",
   "name": "python",
   "nbconvert_exporter": "python",
   "pygments_lexer": "ipython3",
   "version": "3.7.7"
  }
 },
 "nbformat": 4,
 "nbformat_minor": 4
}
